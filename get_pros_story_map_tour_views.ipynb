{
 "cells": [
  {
   "cell_type": "markdown",
   "metadata": {},
   "source": [
    "# Get the view count for live story map tours:\n",
    "\n"
   ]
  },
  {
   "cell_type": "code",
   "execution_count": 45,
   "metadata": {},
   "outputs": [],
   "source": [
    "%config IPCompleter.greedy=True\n",
    "from arcgis.gis import *\n",
    "from IPython.display import HTML, display\n",
    "from IPython.display import Image \n",
    "from datetime import datetime\n",
    "from dateutil.relativedelta import relativedelta\n",
    "import requests\n",
    "import re\n",
    "import pandas as pd"
   ]
  },
  {
   "cell_type": "markdown",
   "metadata": {},
   "source": [
    "Define variables:"
   ]
  },
  {
   "cell_type": "code",
   "execution_count": 53,
   "metadata": {},
   "outputs": [
    {
     "data": {
      "text/plain": [
       "11"
      ]
     },
     "execution_count": 53,
     "metadata": {},
     "output_type": "execute_result"
    }
   ],
   "source": [
    "today = datetime.now()\n",
    "last_full_month = (today + relativedelta(months=-1)).month"
   ]
  },
  {
   "cell_type": "markdown",
   "metadata": {},
   "source": [
    "Connect to AGOL:"
   ]
  },
  {
   "cell_type": "code",
   "execution_count": 3,
   "metadata": {
    "scrolled": true
   },
   "outputs": [
    {
     "name": "stdout",
     "output_type": "stream",
     "text": [
      "Enter password: ········\n",
      "Connected to https://Wake.maps.arcgis.com\n"
     ]
    }
   ],
   "source": [
    "gis = GIS(\"https://wake.maps.arcgis.com\", \"Lucas.Piedrahita\") \n",
    "print(\"Connected to {0}\".format(gis.url))"
   ]
  },
  {
   "cell_type": "code",
   "execution_count": 41,
   "metadata": {},
   "outputs": [
    {
     "name": "stdout",
     "output_type": "stream",
     "text": [
      "local variable 'views_last_full_month' referenced before assignment\n"
     ]
    }
   ],
   "source": [
    "# def getUsageStats(storymap, month, last_month_column_name):\n",
    "#     \"\"\" Return object of the title, total views since creation,  \n",
    "#     and views during the pervious month, for an input of a Web Mapping \n",
    "#     Application ArcGIS item, such as a storymap \"\"\"\n",
    "#     # Get last 60 Days of usage stats\n",
    "#     try:\n",
    "#         usage_df = storymap.usage(\"60M\")\n",
    "#     except IndexError:\n",
    "#         # This occurs for story maps younger than 60 days, where .usage(\"60D\")\n",
    "#         # throws \"IndexError: list index out of range\" \n",
    "#         views_last_full_month = \"Unable to calculate. Please visit https://wake.maps.arcgis.com/home/item.html?id={0}#usage to get usage stats\".format(storymap.id)\n",
    "#     else:\n",
    "#         # Filter to get only the rows from the last full month\n",
    "#         usage_last_full_month_df = usage_df[pd.DatetimeIndex(usage_df[\"Date\"]).month == month]\n",
    "#         views_last_full_month = usage_last_full_month_df[\"Usage\"].sum()\n",
    "#     finally:\n",
    "#         usage_stats = {\n",
    "#             \"TourTitle\": storymap.title,\n",
    "#             \"TotalViewsSinceCreation\": storymap.numViews,\n",
    "#             last_month_column_name: views_last_full_month\n",
    "#             }\n",
    "#         return(usage_stats)\n",
    "    \n",
    "# hov = gis.content.get(\"43720eae5c804486a0dcb11ab6c1d389\")\n",
    "# try:\n",
    "#     print(getUsageStats(hov, 11, \"November2019Views\"))\n",
    "# except Exception as e:\n",
    "#     print(e)"
   ]
  },
  {
   "cell_type": "markdown",
   "metadata": {},
   "source": [
    "Create list of each live story map tour."
   ]
  },
  {
   "cell_type": "code",
   "execution_count": 4,
   "metadata": {},
   "outputs": [],
   "source": [
    "def isWebApp(item):\n",
    "    return(item.type == \"Web Mapping Application\")\n",
    "\n",
    "storymaps_group_live = gis.groups.get(\"264e862549e24faca0bbc2ca92bc2dec\")\n",
    "storymaps_live = list(filter(isWebApp, storymaps_group_live.content()))"
   ]
  },
  {
   "cell_type": "markdown",
   "metadata": {},
   "source": [
    "Loop through each story map in the Live story maps group and get its title, views during the last full month, and total views since its creation."
   ]
  },
  {
   "cell_type": "code",
   "execution_count": 5,
   "metadata": {},
   "outputs": [
    {
     "name": "stdout",
     "output_type": "stream",
     "text": [
      "                          TourTitle Month ViewsThisMonth  \\\n",
      "0      Green Hills County Park Tour    10             85   \n",
      "1  Robertson Millpond Preserve Tour    10              8   \n",
      "\n",
      "  TotalViewsSinceCreation  \n",
      "0                     656  \n",
      "1                     237  \n"
     ]
    }
   ],
   "source": [
    "usage_stats_df = pd.DataFrame(columns=[\"TourTitle\", \"Month\", \"ViewsThisMonth\", \"TotalViewsSinceCreation\"])\n",
    "for storymap in storymaps_live:\n",
    "    usage_df = storymap.usage(\"60D\")\n",
    "    usage_last_full_month_df = usage_df[pd.DatetimeIndex(usage_df[\"Date\"]).month == last_full_month]\n",
    "    views_last_full_month = usage_last_full_month_df[\"Usage\"].sum()\n",
    "    usage_stats_df = usage_stats_df.append({\n",
    "        \"TourTitle\": storymap.title,\n",
    "        \"Month\": last_full_month,\n",
    "        \"ViewsThisMonth\": views_last_full_month,\n",
    "        \"TotalViewsSinceCreation\": storymap.numViews}, ignore_index=True)\n",
    "print(usage_stats_df)"
   ]
  }
 ],
 "metadata": {
  "kernelspec": {
   "display_name": "Python 3",
   "language": "python",
   "name": "python3"
  },
  "language_info": {
   "codemirror_mode": {
    "name": "ipython",
    "version": 3
   },
   "file_extension": ".py",
   "mimetype": "text/x-python",
   "name": "python",
   "nbconvert_exporter": "python",
   "pygments_lexer": "ipython3",
   "version": "3.6.8"
  }
 },
 "nbformat": 4,
 "nbformat_minor": 2
}
